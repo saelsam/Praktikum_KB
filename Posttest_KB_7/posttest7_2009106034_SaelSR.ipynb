{
 "cells": [
  {
   "cell_type": "markdown",
   "id": "98b61823",
   "metadata": {},
   "source": [
    "# Posttest KB 7"
   ]
  },
  {
   "cell_type": "markdown",
   "id": "0002cd6c",
   "metadata": {},
   "source": [
    "### Nama    : Sael Samuel Rude'\n",
    "### NIM     : 2009106034"
   ]
  },
  {
   "cell_type": "code",
   "execution_count": 1,
   "id": "5061abec",
   "metadata": {},
   "outputs": [],
   "source": [
    "import tensorflow as tf"
   ]
  },
  {
   "cell_type": "markdown",
   "id": "166079e7",
   "metadata": {},
   "source": [
    "###  1. Buatlah sebuah tensor dengan shape(5,5) dengan nilai random yang disimpan dalam variable random_tensor"
   ]
  },
  {
   "cell_type": "code",
   "execution_count": 2,
   "id": "42c990a8",
   "metadata": {},
   "outputs": [
    {
     "data": {
      "text/plain": [
       "<tf.Tensor: shape=(5, 5), dtype=float32, numpy=\n",
       "array([[-0.8113182 ,  1.4845988 ,  0.06532937, -2.4427042 ,  0.0992484 ],\n",
       "       [ 0.5912243 ,  0.59282297, -2.1229296 , -0.72289723, -0.05627038],\n",
       "       [ 0.6435448 , -0.26432407,  1.8566332 ,  0.5678417 , -0.3828359 ],\n",
       "       [-1.4853433 ,  1.2617711 , -0.02530608, -0.2646297 ,  1.5328138 ],\n",
       "       [-1.7429771 , -0.43789294, -0.56601   ,  0.32066926,  1.132831  ]],\n",
       "      dtype=float32)>"
      ]
     },
     "execution_count": 2,
     "metadata": {},
     "output_type": "execute_result"
    }
   ],
   "source": [
    "random_tensor = tf.random.normal([5,5], mean=0, stddev=1, dtype=tf.float32, seed=1)\n",
    "random_tensor"
   ]
  },
  {
   "cell_type": "markdown",
   "id": "c550ad14",
   "metadata": {},
   "source": [
    "###  2. Buatlah sebuah tensor dengan shape(5,5) dari sebuah list dengan nilai bilangan prima dalam variable prime_tensor"
   ]
  },
  {
   "cell_type": "code",
   "execution_count": 3,
   "id": "98a5f7fd",
   "metadata": {},
   "outputs": [],
   "source": [
    "list = [[2,3,5,7,11],[13,17,19,23,29],[31,37,41,43,47],[53,59,61,67,71],[73,79,83,89,97]]"
   ]
  },
  {
   "cell_type": "code",
   "execution_count": 18,
   "id": "93c6442a",
   "metadata": {},
   "outputs": [
    {
     "data": {
      "text/plain": [
       "array([[ 2,  3,  5,  7, 11],\n",
       "       [13, 17, 19, 23, 29],\n",
       "       [31, 37, 41, 43, 47],\n",
       "       [53, 59, 61, 67, 71],\n",
       "       [73, 79, 83, 89, 97]], dtype=int64)"
      ]
     },
     "execution_count": 18,
     "metadata": {},
     "output_type": "execute_result"
    }
   ],
   "source": [
    "prime_tensor = tf.convert_to_tensor(list, dtype=tf.int64).numpy()\n",
    "prime_tensor"
   ]
  },
  {
   "cell_type": "markdown",
   "id": "112a0124",
   "metadata": {},
   "source": [
    "### 3. Tampilkan dimensi dari kedua variable tersebut"
   ]
  },
  {
   "cell_type": "code",
   "execution_count": 5,
   "id": "1c745e42",
   "metadata": {},
   "outputs": [
    {
     "name": "stdout",
     "output_type": "stream",
     "text": [
      "Dimensi random_tensor :  (5, 5)\n",
      "Dimensi prime_tensor :  (5, 5)\n"
     ]
    }
   ],
   "source": [
    "print(\"Dimensi random_tensor : \", random_tensor.shape)\n",
    "print(\"Dimensi prime_tensor : \", prime_tensor.shape)"
   ]
  },
  {
   "cell_type": "markdown",
   "id": "de053f96",
   "metadata": {},
   "source": [
    "### 4. Tampilkan hasil dari perhitungan aritmetika 2 variable tersebut (Gunakan minimal 5 operator)"
   ]
  },
  {
   "cell_type": "markdown",
   "id": "f46a50b8",
   "metadata": {},
   "source": [
    "#### Penambahan"
   ]
  },
  {
   "cell_type": "code",
   "execution_count": 6,
   "id": "76f104a9",
   "metadata": {},
   "outputs": [
    {
     "data": {
      "text/plain": [
       "array([[ 1.1886818,  4.4845986,  5.0653296,  4.557296 , 11.099248 ],\n",
       "       [13.591225 , 17.592823 , 16.877071 , 22.277103 , 28.94373  ],\n",
       "       [31.643545 , 36.735676 , 42.856632 , 43.56784  , 46.617165 ],\n",
       "       [51.514656 , 60.261772 , 60.974693 , 66.73537  , 72.532814 ],\n",
       "       [71.25702  , 78.5621   , 82.43399  , 89.32067  , 98.13283  ]],\n",
       "      dtype=float32)"
      ]
     },
     "execution_count": 6,
     "metadata": {},
     "output_type": "execute_result"
    }
   ],
   "source": [
    "tf.add(random_tensor,prime_tensor).numpy()"
   ]
  },
  {
   "cell_type": "markdown",
   "id": "91795792",
   "metadata": {},
   "source": [
    "#### Pengurangan"
   ]
  },
  {
   "cell_type": "code",
   "execution_count": 7,
   "id": "38e046b7",
   "metadata": {},
   "outputs": [
    {
     "data": {
      "text/plain": [
       "array([[ -2.8113182,  -1.5154012,  -4.9346704,  -9.442704 , -10.900752 ],\n",
       "       [-12.408775 , -16.407177 , -21.122929 , -23.722897 , -29.05627  ],\n",
       "       [-30.356455 , -37.264324 , -39.143368 , -42.43216  , -47.382835 ],\n",
       "       [-54.485344 , -57.738228 , -61.025307 , -67.26463  , -69.467186 ],\n",
       "       [-74.74298  , -79.4379   , -83.56601  , -88.67933  , -95.86717  ]],\n",
       "      dtype=float32)"
      ]
     },
     "execution_count": 7,
     "metadata": {},
     "output_type": "execute_result"
    }
   ],
   "source": [
    "tf.subtract(random_tensor,prime_tensor).numpy()"
   ]
  },
  {
   "cell_type": "markdown",
   "id": "e4ebbc15",
   "metadata": {},
   "source": [
    "#### Perkalian"
   ]
  },
  {
   "cell_type": "code",
   "execution_count": 8,
   "id": "68f5cdf6",
   "metadata": {},
   "outputs": [
    {
     "data": {
      "text/plain": [
       "array([[  -1.6226364 ,    4.4537964 ,    0.32664686,  -17.09893   ,\n",
       "           1.0917324 ],\n",
       "       [   7.685916  ,   10.077991  ,  -40.335663  ,  -16.626637  ,\n",
       "          -1.6318411 ],\n",
       "       [  19.949888  ,   -9.77999   ,   76.12196   ,   24.417194  ,\n",
       "         -17.993286  ],\n",
       "       [ -78.7232    ,   74.444496  ,   -1.5436709 ,  -17.73019   ,\n",
       "         108.82978   ],\n",
       "       [-127.237335  ,  -34.593544  ,  -46.97883   ,   28.539564  ,\n",
       "         109.884605  ]], dtype=float32)"
      ]
     },
     "execution_count": 8,
     "metadata": {},
     "output_type": "execute_result"
    }
   ],
   "source": [
    "tf.multiply(random_tensor,prime_tensor).numpy()"
   ]
  },
  {
   "cell_type": "markdown",
   "id": "56e8570d",
   "metadata": {},
   "source": [
    "#### Pembagian"
   ]
  },
  {
   "cell_type": "code",
   "execution_count": 19,
   "id": "e0771768",
   "metadata": {},
   "outputs": [
    {
     "data": {
      "text/plain": [
       "array([[-4.0565911e-01,  4.9486625e-01,  1.3065875e-02, -3.4895775e-01,\n",
       "         9.0225823e-03],\n",
       "       [ 4.5478795e-02,  3.4871940e-02, -1.1173314e-01, -3.1430315e-02,\n",
       "        -1.9403580e-03],\n",
       "       [ 2.0759510e-02, -7.1438937e-03,  4.5283735e-02,  1.3205621e-02,\n",
       "        -8.1454450e-03],\n",
       "       [-2.8025346e-02,  2.1385951e-02, -4.1485377e-04, -3.9496967e-03,\n",
       "         2.1588927e-02],\n",
       "       [-2.3876399e-02, -5.5429488e-03, -6.8193977e-03,  3.6030253e-03,\n",
       "         1.1678670e-02]], dtype=float32)"
      ]
     },
     "execution_count": 19,
     "metadata": {},
     "output_type": "execute_result"
    }
   ],
   "source": [
    "tf.divide(random_tensor,prime_tensor).numpy()"
   ]
  },
  {
   "cell_type": "markdown",
   "id": "95b77907",
   "metadata": {},
   "source": [
    "#### Pengkat"
   ]
  },
  {
   "cell_type": "code",
   "execution_count": 20,
   "id": "0f5b78ae",
   "metadata": {},
   "outputs": [
    {
     "data": {
      "text/plain": [
       "array([[ 6.5823728e-01,  3.2721055e+00,  1.1899876e-06, -5.1891492e+02,\n",
       "         9.2036214e-12],\n",
       "       [ 1.0783996e-03,  1.3795117e-04, -1.6284565e+06, -5.7380047e-04,\n",
       "        -5.7294839e-37],\n",
       "       [ 1.1639711e-06, -4.1596646e-22,  1.0417667e+11,  2.7025481e-11,\n",
       "        -2.5211261e-20],\n",
       "       [-1.2788605e+09,  9.0751462e+05, -0.0000000e+00, -0.0000000e+00,\n",
       "         1.4782479e+13],\n",
       "       [-4.1142766e+17, -4.6565877e-29, -3.0507073e-21,  0.0000000e+00,\n",
       "         1.7948009e+05]], dtype=float32)"
      ]
     },
     "execution_count": 20,
     "metadata": {},
     "output_type": "execute_result"
    }
   ],
   "source": [
    "tf.pow(random_tensor,prime_tensor).numpy()"
   ]
  },
  {
   "cell_type": "markdown",
   "id": "e288655d",
   "metadata": {},
   "source": [
    " #### Logaritma"
   ]
  },
  {
   "cell_type": "code",
   "execution_count": 21,
   "id": "e68c2795",
   "metadata": {
    "scrolled": true
   },
   "outputs": [
    {
     "data": {
      "text/plain": [
       "array([[        nan,  0.39514455, -2.7283134 ,         nan, -2.3101294 ],\n",
       "       [-0.5255598 , -0.52285945,         nan,         nan,         nan],\n",
       "       [-0.44076362,         nan,  0.61876476, -0.5659126 ,         nan],\n",
       "       [        nan,  0.23251635,         nan,         nan,  0.42710513],\n",
       "       [        nan,         nan,         nan, -1.1373451 ,  0.12471979]],\n",
       "      dtype=float32)"
      ]
     },
     "execution_count": 21,
     "metadata": {},
     "output_type": "execute_result"
    }
   ],
   "source": [
    "tf.math.log(random_tensor,prime_tensor).numpy()"
   ]
  },
  {
   "cell_type": "markdown",
   "id": "77236aa5",
   "metadata": {},
   "source": [
    "### 5. Tampilkan nilai maksimal dan minimal dari variable random_tensor"
   ]
  },
  {
   "cell_type": "markdown",
   "id": "fdfbad5d",
   "metadata": {},
   "source": [
    "#### Berdasarkan Kolom (axis=0)"
   ]
  },
  {
   "cell_type": "code",
   "execution_count": 12,
   "id": "8b889981",
   "metadata": {},
   "outputs": [
    {
     "name": "stdout",
     "output_type": "stream",
     "text": [
      "Nilai Maksimal :  [2 0 2 2 3]\n",
      "Nilai Minimal  :  [4 4 1 0 2]\n"
     ]
    }
   ],
   "source": [
    "maxKolom = tf.argmax(random_tensor, axis=0).numpy()\n",
    "minKolom = tf.argmin(random_tensor, axis=0).numpy()\n",
    "print(\"Nilai Maksimal : \", maxKolom)\n",
    "print(\"Nilai Minimal  : \", minKolom)"
   ]
  },
  {
   "cell_type": "markdown",
   "id": "fe7fef76",
   "metadata": {},
   "source": [
    "Output angka merupakan index kolom tensor"
   ]
  },
  {
   "cell_type": "markdown",
   "id": "1cd32c45",
   "metadata": {},
   "source": [
    "#### Berdasarkan Baris (axis=1)"
   ]
  },
  {
   "cell_type": "code",
   "execution_count": 13,
   "id": "60f1528b",
   "metadata": {
    "scrolled": true
   },
   "outputs": [
    {
     "name": "stdout",
     "output_type": "stream",
     "text": [
      "Nilai Maksimal :  [1 1 2 4 4]\n",
      "Nilai Minimal  :  [3 2 4 0 0]\n"
     ]
    }
   ],
   "source": [
    "maxBaris = tf.argmax(random_tensor, axis=1).numpy()\n",
    "minBaris = tf.argmin(random_tensor, axis=1).numpy()\n",
    "print(\"Nilai Maksimal : \", maxBaris)\n",
    "print(\"Nilai Minimal  : \", minBaris)"
   ]
  },
  {
   "cell_type": "markdown",
   "id": "b375124a",
   "metadata": {},
   "source": [
    "Output angka merupakan index baris tensor"
   ]
  },
  {
   "cell_type": "markdown",
   "id": "e2ddb83f",
   "metadata": {},
   "source": [
    "### 6. Tampilkan hasil dari penggabungan variable random_tensor dengan prime_tensor (concatenation)"
   ]
  },
  {
   "cell_type": "code",
   "execution_count": 14,
   "id": "b2799d13",
   "metadata": {},
   "outputs": [
    {
     "name": "stdout",
     "output_type": "stream",
     "text": [
      "Ukuran Awal random_tensor : (5, 5)\n",
      "Ukuran Awal prime_tensor : (5, 5)\n"
     ]
    }
   ],
   "source": [
    "print(f\"Ukuran Awal random_tensor : {random_tensor.shape}\" )\n",
    "print(f\"Ukuran Awal prime_tensor : {prime_tensor.shape}\" )"
   ]
  },
  {
   "cell_type": "code",
   "execution_count": 15,
   "id": "bceebe60",
   "metadata": {},
   "outputs": [
    {
     "name": "stdout",
     "output_type": "stream",
     "text": [
      "Ukuran yang sudah di concat (axis = 0) : (10, 5)\n",
      "Ukuran yang sudah di concat (axis = 1) : (5, 10)\n"
     ]
    }
   ],
   "source": [
    "concat_tensor_1 = tf.concat([random_tensor, prime_tensor], axis=0)\n",
    "concat_tensor_2 = tf.concat([random_tensor, prime_tensor], axis=1)\n",
    "print(f\"Ukuran yang sudah di concat (axis = 0) : {concat_tensor_1.shape}\")\n",
    "print(f\"Ukuran yang sudah di concat (axis = 1) : {concat_tensor_2.shape}\")"
   ]
  },
  {
   "cell_type": "markdown",
   "id": "26b281ad",
   "metadata": {},
   "source": [
    "### 7. Tampilkan hasil sorting dari kedua variable di atas. (descending)"
   ]
  },
  {
   "cell_type": "markdown",
   "id": "07e42726",
   "metadata": {},
   "source": [
    "#### Sorting random_tensor secara descending"
   ]
  },
  {
   "cell_type": "code",
   "execution_count": 16,
   "id": "3eea332a",
   "metadata": {},
   "outputs": [
    {
     "data": {
      "text/plain": [
       "array([[ 1.4845988 ,  0.0992484 ,  0.06532937, -0.8113182 , -2.4427042 ],\n",
       "       [ 0.59282297,  0.5912243 , -0.05627038, -0.72289723, -2.1229296 ],\n",
       "       [ 1.8566332 ,  0.6435448 ,  0.5678417 , -0.26432407, -0.3828359 ],\n",
       "       [ 1.5328138 ,  1.2617711 , -0.02530608, -0.2646297 , -1.4853433 ],\n",
       "       [ 1.132831  ,  0.32066926, -0.43789294, -0.56601   , -1.7429771 ]],\n",
       "      dtype=float32)"
      ]
     },
     "execution_count": 16,
     "metadata": {},
     "output_type": "execute_result"
    }
   ],
   "source": [
    "tf.sort(random_tensor, direction=\"DESCENDING\").numpy()"
   ]
  },
  {
   "cell_type": "markdown",
   "id": "97250d15",
   "metadata": {},
   "source": [
    "#### Sorting prime_tensor secara descending"
   ]
  },
  {
   "cell_type": "code",
   "execution_count": 17,
   "id": "fc2d587a",
   "metadata": {},
   "outputs": [
    {
     "data": {
      "text/plain": [
       "array([[11,  7,  5,  3,  2],\n",
       "       [29, 23, 19, 17, 13],\n",
       "       [47, 43, 41, 37, 31],\n",
       "       [71, 67, 61, 59, 53],\n",
       "       [97, 89, 83, 79, 73]], dtype=int64)"
      ]
     },
     "execution_count": 17,
     "metadata": {},
     "output_type": "execute_result"
    }
   ],
   "source": [
    "tf.sort(prime_tensor, direction=\"DESCENDING\").numpy()"
   ]
  }
 ],
 "metadata": {
  "kernelspec": {
   "display_name": "Python 3 (ipykernel)",
   "language": "python",
   "name": "python3"
  },
  "language_info": {
   "codemirror_mode": {
    "name": "ipython",
    "version": 3
   },
   "file_extension": ".py",
   "mimetype": "text/x-python",
   "name": "python",
   "nbconvert_exporter": "python",
   "pygments_lexer": "ipython3",
   "version": "3.10.7"
  },
  "vscode": {
   "interpreter": {
    "hash": "afb734500600fd355917ca529030176ea0ca205570884b88f2f6f7d791fd3fbe"
   }
  }
 },
 "nbformat": 4,
 "nbformat_minor": 5
}
